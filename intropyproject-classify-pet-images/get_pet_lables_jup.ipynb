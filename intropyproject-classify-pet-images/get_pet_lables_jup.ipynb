{
 "cells": [
  {
   "cell_type": "code",
   "execution_count": 1,
   "metadata": {},
   "outputs": [],
   "source": [
    "from os import listdir\n",
    "from classifier import classifier"
   ]
  },
  {
   "cell_type": "code",
   "execution_count": 2,
   "metadata": {},
   "outputs": [],
   "source": [
    "images_dir = \"pet_images\"\n",
    "model = \"resnet\"\n"
   ]
  },
  {
   "cell_type": "code",
   "execution_count": 3,
   "metadata": {},
   "outputs": [],
   "source": [
    "filename_list = listdir('pet_images/')"
   ]
  },
  {
   "cell_type": "code",
   "execution_count": 4,
   "metadata": {},
   "outputs": [],
   "source": [
    "results_dic = {}\n"
   ]
  },
  {
   "cell_type": "code",
   "execution_count": 5,
   "metadata": {},
   "outputs": [],
   "source": [
    "values  = []"
   ]
  },
  {
   "cell_type": "code",
   "execution_count": 6,
   "metadata": {},
   "outputs": [],
   "source": [
    "for file in filename_list:\n",
    "        value = [i.lower() for i in file.split('_')[:-1]]\n",
    "        values2 = []\n",
    "        values2.append(' '.join(value))\n",
    "        values.append(values2)"
   ]
  },
  {
   "cell_type": "code",
   "execution_count": 7,
   "metadata": {},
   "outputs": [],
   "source": [
    "name_list = zip(filename_list, values)"
   ]
  },
  {
   "cell_type": "code",
   "execution_count": 8,
   "metadata": {},
   "outputs": [],
   "source": [
    "for fname, dlist in list(name_list):\n",
    "        results_dic[fname] = dlist"
   ]
  },
  {
   "cell_type": "code",
   "execution_count": 9,
   "metadata": {
    "scrolled": true
   },
   "outputs": [
    {
     "data": {
      "text/plain": [
       "{'Dalmatian_04068.jpg': ['dalmatian'],\n",
       " 'German_shepherd_dog_04890.jpg': ['german shepherd dog'],\n",
       " 'Dalmatian_04037.jpg': ['dalmatian'],\n",
       " 'Boston_terrier_02259.jpg': ['boston terrier'],\n",
       " 'Boston_terrier_02303.jpg': ['boston terrier'],\n",
       " 'gecko_02.jpg': ['gecko'],\n",
       " 'German_shepherd_dog_04931.jpg': ['german shepherd dog'],\n",
       " 'Golden_retriever_05223.jpg': ['golden retriever'],\n",
       " 'Saint_bernard_08036.jpg': ['saint bernard'],\n",
       " 'polar_bear_04.jpg': ['polar bear'],\n",
       " 'Cocker_spaniel_03750.jpg': ['cocker spaniel'],\n",
       " 'Basenji_00963.jpg': ['basenji'],\n",
       " 'cat_02.jpg': ['cat'],\n",
       " 'great_horned_owl_02.jpg': ['great horned owl'],\n",
       " 'Beagle_01125.jpg': ['beagle'],\n",
       " 'Saint_bernard_08010.jpg': ['saint bernard'],\n",
       " 'Beagle_01141.jpg': ['beagle'],\n",
       " 'Beagle_01170.jpg': ['beagle'],\n",
       " 'Miniature_schnauzer_06884.jpg': ['miniature schnauzer'],\n",
       " 'skunk_029.jpg': ['skunk'],\n",
       " 'cat_01.jpg': ['cat'],\n",
       " 'Great_dane_05320.jpg': ['great dane'],\n",
       " 'Great_pyrenees_05367.jpg': ['great pyrenees'],\n",
       " 'Golden_retriever_05195.jpg': ['golden retriever'],\n",
       " 'Boston_terrier_02285.jpg': ['boston terrier'],\n",
       " 'Dalmatian_04017.jpg': ['dalmatian'],\n",
       " 'Boxer_02426.jpg': ['boxer'],\n",
       " 'German_shorthaired_pointer_04986.jpg': ['german shorthaired pointer'],\n",
       " 'Basset_hound_01034.jpg': ['basset hound'],\n",
       " 'Golden_retriever_05182.jpg': ['golden retriever'],\n",
       " 'gecko_80.jpg': ['gecko'],\n",
       " 'Rabbit_002.jpg': ['rabbit'],\n",
       " 'Golden_retriever_05257.jpg': ['golden retriever'],\n",
       " 'Poodle_07927.jpg': ['poodle'],\n",
       " 'cat_07.jpg': ['cat'],\n",
       " 'Collie_03797.jpg': ['collie'],\n",
       " 'Great_pyrenees_05435.jpg': ['great pyrenees'],\n",
       " 'fox_squirrel_01.jpg': ['fox squirrel'],\n",
       " 'Basenji_00974.jpg': ['basenji'],\n",
       " 'Poodle_07956.jpg': ['poodle']}"
      ]
     },
     "execution_count": 9,
     "metadata": {},
     "output_type": "execute_result"
    }
   ],
   "source": [
    "results_dic"
   ]
  },
  {
   "cell_type": "code",
   "execution_count": 10,
   "metadata": {},
   "outputs": [
    {
     "name": "stdout",
     "output_type": "stream",
     "text": [
      "['dalmatian', 'dalmatian, coach dog, carriage dog', 1]\n",
      "['german shepherd dog', 'German shepherd, German shepherd dog, German police dog, alsatian', 1]\n",
      "['dalmatian', 'dalmatian, coach dog, carriage dog', 1]\n",
      "['boston terrier', 'Boston bull, Boston terrier', 1]\n",
      "['boston terrier', 'Boston bull, Boston terrier', 1]\n",
      "['gecko', 'African chameleon, Chamaeleo chamaeleon', 0]\n",
      "['german shepherd dog', 'German shepherd, German shepherd dog, German police dog, alsatian', 1]\n",
      "['golden retriever', 'golden retriever', 1]\n",
      "['saint bernard', 'Saint Bernard, St Bernard', 1]\n",
      "['polar bear', 'ice bear, polar bear, Ursus Maritimus, Thalarctos maritimus', 1]\n",
      "['cocker spaniel', 'cocker spaniel, English cocker spaniel, cocker', 1]\n",
      "['basenji', 'basenji', 1]\n",
      "['cat', 'tabby, tabby cat, cat', 1]\n",
      "['great horned owl', 'great grey owl, great gray owl, Strix nebulosa', 0]\n",
      "['beagle', 'beagle', 1]\n",
      "['saint bernard', 'Saint Bernard, St Bernard', 1]\n",
      "['beagle', 'beagle', 1]\n",
      "['beagle', 'Walker hound, Walker foxhound', 0]\n",
      "['miniature schnauzer', 'miniature schnauzer', 1]\n",
      "['skunk', 'skunk, polecat, wood pussy', 1]\n",
      "['cat', 'Norwegian elkhound, elkhound', 0]\n",
      "['great dane', 'Great Dane', 1]\n",
      "['great pyrenees', 'kuvasz', 0]\n",
      "['golden retriever', 'golden retriever', 1]\n",
      "['boston terrier', 'Boston bull, Boston terrier', 1]\n",
      "['dalmatian', 'dalmatian, coach dog, carriage dog', 1]\n",
      "['boxer', 'boxer', 1]\n",
      "['german shorthaired pointer', 'German shorthaired pointer', 1]\n",
      "['basset hound', 'basset, basset hound', 1]\n",
      "['golden retriever', 'Leonberg', 0]\n",
      "['gecko', 'tailed frog, bell toad, ribbed toad, tailed toad, Ascaphus trui', 0]\n",
      "['rabbit', 'wood rabbit, cottontail, cottontail rabbit, rabbit', 1]\n",
      "['golden retriever', 'golden retriever', 1]\n",
      "['poodle', 'standard poodle, poodle', 1]\n",
      "['cat', 'Egyptian cat, cat', 1]\n",
      "['collie', 'collie', 1]\n",
      "['great pyrenees', 'Great Pyrenees', 1]\n",
      "['fox squirrel', 'fox squirrel, eastern fox squirrel, Sciurus niger', 1]\n",
      "['basenji', 'basenji', 1]\n",
      "['poodle', 'standard poodle, poodle', 1]\n"
     ]
    }
   ],
   "source": [
    "for fname, dlist in results_dic.items():\n",
    "    test_image = images_dir + \"/\" + fname\n",
    "    image_classification = classifier(test_image, model)\n",
    "    for animal in image_classification.split(', '):\n",
    "       # print(animal.lower() +\" ------> \" + dlist[0])\n",
    "        if animal.lower() == dlist[0]:\n",
    "            comp = 1\n",
    "            break\n",
    "        else:\n",
    "            comp = 0\n",
    "    result_list = [dlist[0], image_classification, comp]\n",
    "    print(result_list)"
   ]
  },
  {
   "cell_type": "code",
   "execution_count": 11,
   "metadata": {},
   "outputs": [],
   "source": [
    "for fname, dlist in results_dic.items():\n",
    "    test_image = images_dir + \"/\" + fname\n",
    "    image_classification = classifier(test_image, model)\n",
    "    if dlist[0] in image_classification.lower():\n",
    "       # print(animal.lower() +\" ------> \" + dlist[0])\n",
    "        comp = 1\n",
    "    else:\n",
    "        comp = 0\n",
    "    result_list = [dlist[0], image_classification.lower(), comp]\n",
    "    results_dic[fname] = result_list"
   ]
  },
  {
   "cell_type": "code",
   "execution_count": 19,
   "metadata": {
    "scrolled": true
   },
   "outputs": [
    {
     "data": {
      "text/plain": [
       "{'Dalmatian_04068.jpg': ['dalmatian',\n",
       "  'dalmatian, coach dog, carriage dog',\n",
       "  1,\n",
       "  1,\n",
       "  1],\n",
       " 'German_shepherd_dog_04890.jpg': ['german shepherd dog',\n",
       "  'german shepherd, german shepherd dog, german police dog, alsatian',\n",
       "  1,\n",
       "  1,\n",
       "  1],\n",
       " 'Dalmatian_04037.jpg': ['dalmatian',\n",
       "  'dalmatian, coach dog, carriage dog',\n",
       "  1,\n",
       "  1,\n",
       "  1],\n",
       " 'Boston_terrier_02259.jpg': ['boston terrier',\n",
       "  'boston bull, boston terrier',\n",
       "  1,\n",
       "  1,\n",
       "  1],\n",
       " 'Boston_terrier_02303.jpg': ['boston terrier',\n",
       "  'boston bull, boston terrier',\n",
       "  1,\n",
       "  1,\n",
       "  1],\n",
       " 'gecko_02.jpg': ['gecko', 'african chameleon, chamaeleo chamaeleon', 0, 1, 0],\n",
       " 'German_shepherd_dog_04931.jpg': ['german shepherd dog',\n",
       "  'german shepherd, german shepherd dog, german police dog, alsatian',\n",
       "  1,\n",
       "  1,\n",
       "  1],\n",
       " 'Golden_retriever_05223.jpg': ['golden retriever',\n",
       "  'golden retriever',\n",
       "  1,\n",
       "  1,\n",
       "  1],\n",
       " 'Saint_bernard_08036.jpg': ['saint bernard',\n",
       "  'saint bernard, st bernard',\n",
       "  1,\n",
       "  1,\n",
       "  1],\n",
       " 'polar_bear_04.jpg': ['polar bear',\n",
       "  'ice bear, polar bear, ursus maritimus, thalarctos maritimus',\n",
       "  1,\n",
       "  1,\n",
       "  0],\n",
       " 'Cocker_spaniel_03750.jpg': ['cocker spaniel',\n",
       "  'cocker spaniel, english cocker spaniel, cocker',\n",
       "  1,\n",
       "  1,\n",
       "  1],\n",
       " 'Basenji_00963.jpg': ['basenji', 'basenji', 1, 1, 1],\n",
       " 'cat_02.jpg': ['cat', 'tabby, tabby cat, cat', 1, 1, 0],\n",
       " 'great_horned_owl_02.jpg': ['great horned owl',\n",
       "  'great grey owl, great gray owl, strix nebulosa',\n",
       "  0,\n",
       "  1,\n",
       "  0],\n",
       " 'Beagle_01125.jpg': ['beagle', 'beagle', 1, 1, 1],\n",
       " 'Saint_bernard_08010.jpg': ['saint bernard',\n",
       "  'saint bernard, st bernard',\n",
       "  1,\n",
       "  1,\n",
       "  1],\n",
       " 'Beagle_01141.jpg': ['beagle', 'beagle', 1, 1, 1],\n",
       " 'Beagle_01170.jpg': ['beagle', 'walker hound, walker foxhound', 0, 1, 1],\n",
       " 'Miniature_schnauzer_06884.jpg': ['miniature schnauzer',\n",
       "  'miniature schnauzer',\n",
       "  1,\n",
       "  1,\n",
       "  1],\n",
       " 'skunk_029.jpg': ['skunk', 'skunk, polecat, wood pussy', 1, 1, 0],\n",
       " 'cat_01.jpg': ['cat', 'norwegian elkhound, elkhound', 0, 0, 1],\n",
       " 'Great_dane_05320.jpg': ['great dane', 'great dane', 1, 1, 1],\n",
       " 'Great_pyrenees_05367.jpg': ['great pyrenees', 'kuvasz', 0, 1, 1],\n",
       " 'Golden_retriever_05195.jpg': ['golden retriever',\n",
       "  'golden retriever',\n",
       "  1,\n",
       "  1,\n",
       "  1],\n",
       " 'Boston_terrier_02285.jpg': ['boston terrier',\n",
       "  'boston bull, boston terrier',\n",
       "  1,\n",
       "  1,\n",
       "  1],\n",
       " 'Dalmatian_04017.jpg': ['dalmatian',\n",
       "  'dalmatian, coach dog, carriage dog',\n",
       "  1,\n",
       "  1,\n",
       "  1],\n",
       " 'Boxer_02426.jpg': ['boxer', 'boxer', 1, 1, 1],\n",
       " 'German_shorthaired_pointer_04986.jpg': ['german shorthaired pointer',\n",
       "  'german shorthaired pointer',\n",
       "  1,\n",
       "  1,\n",
       "  1],\n",
       " 'Basset_hound_01034.jpg': ['basset hound', 'basset, basset hound', 1, 1, 1],\n",
       " 'Golden_retriever_05182.jpg': ['golden retriever', 'leonberg', 0, 1, 1],\n",
       " 'gecko_80.jpg': ['gecko',\n",
       "  'tailed frog, bell toad, ribbed toad, tailed toad, ascaphus trui',\n",
       "  0,\n",
       "  1,\n",
       "  0],\n",
       " 'Rabbit_002.jpg': ['rabbit',\n",
       "  'wood rabbit, cottontail, cottontail rabbit, rabbit',\n",
       "  1,\n",
       "  1,\n",
       "  0],\n",
       " 'Golden_retriever_05257.jpg': ['golden retriever',\n",
       "  'golden retriever',\n",
       "  1,\n",
       "  1,\n",
       "  1],\n",
       " 'Poodle_07927.jpg': ['poodle', 'standard poodle, poodle', 1, 1, 1],\n",
       " 'cat_07.jpg': ['cat', 'egyptian cat, cat', 1, 1, 0],\n",
       " 'Collie_03797.jpg': ['collie', 'collie', 1, 1, 1],\n",
       " 'Great_pyrenees_05435.jpg': ['great pyrenees', 'great pyrenees', 1, 1, 1],\n",
       " 'fox_squirrel_01.jpg': ['fox squirrel',\n",
       "  'fox squirrel, eastern fox squirrel, sciurus niger',\n",
       "  1,\n",
       "  1,\n",
       "  0],\n",
       " 'Basenji_00974.jpg': ['basenji', 'basenji', 1, 1, 1],\n",
       " 'Poodle_07956.jpg': ['poodle', 'standard poodle, poodle', 1, 1, 1]}"
      ]
     },
     "execution_count": 19,
     "metadata": {},
     "output_type": "execute_result"
    }
   ],
   "source": [
    "results_dic"
   ]
  },
  {
   "cell_type": "code",
   "execution_count": 12,
   "metadata": {},
   "outputs": [],
   "source": [
    "dogfile = \"dognames.txt\""
   ]
  },
  {
   "cell_type": "code",
   "execution_count": 13,
   "metadata": {},
   "outputs": [],
   "source": [
    "dogs_dic = {}\n",
    "with open(dogfile) as df:\n",
    "    for line in df:\n",
    "        dogs_dic[line.strip('\\n')] = 1"
   ]
  },
  {
   "cell_type": "code",
   "execution_count": 84,
   "metadata": {},
   "outputs": [
    {
     "name": "stdout",
     "output_type": "stream",
     "text": [
      "{'chihuahua': 1, 'japanese spaniel': 1, 'maltese dog, maltese terrier, maltese': 1, 'pekinese, pekingese, peke': 1, 'shih-tzu': 1, 'blenheim spaniel': 1, 'papillon': 1, 'toy terrier': 1, 'rhodesian ridgeback': 1, 'afghan hound, afghan': 1, 'basset, basset hound': 1, 'beagle': 1, 'bloodhound, sleuthhound': 1, 'bluetick': 1, 'black-and-tan coonhound': 1, 'walker hound, walker foxhound': 1, 'english foxhound': 1, 'redbone': 1, 'borzoi, russian wolfhound': 1, 'irish wolfhound': 1, 'italian greyhound': 1, 'whippet': 1, 'ibizan hound, ibizan podenco': 1, 'norwegian elkhound, elkhound': 1, 'otterhound, otter hound': 1, 'saluki, gazelle hound': 1, 'scottish deerhound, deerhound': 1, 'weimaraner': 1, 'staffordshire bullterrier, staffordshire bull terrier': 1, 'american staffordshire terrier, staffordshire terrier, american pit bull terrier, pit bull terrier': 1, 'bedlington terrier': 1, 'border terrier': 1, 'kerry blue terrier': 1, 'irish terrier': 1, 'norfolk terrier': 1, 'norwich terrier': 1, 'yorkshire terrier': 1, 'wire-haired fox terrier': 1, 'lakeland terrier': 1, 'sealyham terrier, sealyham': 1, 'airedale, airedale terrier': 1, 'cairn, cairn terrier': 1, 'australian terrier': 1, 'dandie dinmont, dandie dinmont terrier': 1, 'boston bull, boston terrier': 1, 'miniature schnauzer': 1, 'giant schnauzer': 1, 'standard schnauzer, schnauzer': 1, 'scotch terrier, scottish terrier, scottie': 1, 'tibetan terrier, chrysanthemum dog': 1, 'silky terrier, sydney silky': 1, 'soft-coated wheaten terrier': 1, 'west highland white terrier': 1, 'lhasa, lhasa apso': 1, 'flat-coated retriever': 1, 'curly-coated retriever': 1, 'golden retriever': 1, 'labrador retriever': 1, 'chesapeake bay retriever': 1, 'german shorthaired pointer': 1, 'vizsla, hungarian pointer': 1, 'english setter': 1, 'irish setter, red setter': 1, 'gordon setter': 1, 'brittany spaniel': 1, 'clumber, clumber spaniel': 1, 'english springer, english springer spaniel': 1, 'welsh springer spaniel': 1, 'cocker spaniel, english cocker spaniel, cocker': 1, 'sussex spaniel': 1, 'irish water spaniel': 1, 'kuvasz': 1, 'schipperke': 1, 'groenendael': 1, 'malinois': 1, 'briard': 1, 'kelpie': 1, 'komondor': 1, 'old english sheepdog, bobtail': 1, 'shetland sheepdog, shetland sheep dog, shetland': 1, 'collie': 1, 'border collie': 1, 'bouvier des flandres, bouviers des flandres': 1, 'rottweiler': 1, 'german shepherd, german shepherd dog, german police dog, alsatian': 1, 'doberman, doberman pinscher': 1, 'miniature pinscher': 1, 'greater swiss mountain dog': 1, 'bernese mountain dog': 1, 'appenzeller': 1, 'entlebucher': 1, 'boxer': 1, 'bull mastiff': 1, 'tibetan mastiff': 1, 'french bulldog': 1, 'great dane': 1, 'saint bernard, st bernard': 1, 'eskimo dog, husky': 1, 'malamute, malemute, alaskan malamute': 1, 'siberian husky': 1, 'dalmatian, coach dog, carriage dog': 1, 'affenpinscher, monkey pinscher, monkey dog': 1, 'basenji': 1, 'pug, pug-dog': 1, 'leonberg': 1, 'newfoundland, newfoundland dog': 1, 'great pyrenees': 1, 'samoyed, samoyede': 1, 'pomeranian': 1, 'chow, chow chow': 1, 'keeshond': 1, 'brabancon griffon': 1, 'pembroke, pembroke welsh corgi, corgi': 1, 'cardigan, cardigan welsh corgi, corgi': 1, 'toy poodle': 1, 'miniature poodle': 1, 'standard poodle, poodle': 1, 'mexican hairless': 1, 'affenpinscher': 1, 'afghan hound': 1, 'airedale terrier': 1, 'akita': 1, 'alaskan malamute': 1, 'american eskimo dog': 1, 'american foxhound': 1, 'american staffordshire terrier': 1, 'american water spaniel': 1, 'anatolian shepherd dog': 1, 'australian cattle dog': 1, 'australian shepherd': 1, 'basset hound': 1, 'bearded collie': 1, 'beauceron': 1, 'belgian malinois': 1, 'belgian sheepdog': 1, 'belgian tervuren': 1, 'bichon frise': 1, 'black and tan coonhound': 1, 'black russian terrier': 1, 'bloodhound': 1, 'bluetick coonhound': 1, 'borzoi': 1, 'boston terrier': 1, 'bouvier des flandres': 1, 'boykin spaniel': 1, 'brittany': 1, 'brussels griffon': 1, 'bull terrier': 1, 'bulldog': 1, 'bullmastiff': 1, 'cairn terrier': 1, 'canaan dog': 1, 'cane corso': 1, 'cardigan welsh corgi': 1, 'cavalier king charles spaniel': 1, 'chinese crested': 1, 'chinese shar-pei': 1, 'chow chow': 1, 'clumber spaniel': 1, 'cocker spaniel': 1, 'corgi': 1, 'dachshund': 1, 'dalmatian': 1, 'dandie dinmont terrier': 1, 'deerhound': 1, 'doberman pinscher': 1, 'dogue de bordeaux': 1, 'english cocker spaniel': 1, 'english springer spaniel': 1, 'english toy spaniel': 1, 'entlebucher mountain dog': 1, 'field spaniel': 1, 'finnish spitz': 1, 'german pinscher': 1, 'german shepherd dog': 1, 'german wirehaired pointer': 1, 'glen of imaal terrier': 1, 'greyhound': 1, 'havanese': 1, 'ibizan hound': 1, 'icelandic sheepdog': 1, 'irish red and white setter': 1, 'irish setter': 1, 'japanese chin': 1, 'leonberger': 1, 'lhasa apso': 1, 'lowchen': 1, 'maltese': 1, 'manchester terrier': 1, 'mastiff': 1, 'neapolitan mastiff': 1, 'newfoundland': 1, 'norwegian buhund': 1, 'norwegian elkhound': 1, 'norwegian lundehund': 1, 'nova scotia duck tolling retriever': 1, 'old english sheepdog': 1, 'otterhound': 1, 'parson russell terrier': 1, 'pekingese': 1, 'pembroke welsh corgi': 1, 'petit basset griffon vendeen': 1, 'pharaoh hound': 1, 'plott': 1, 'pointer': 1, 'poodle': 1, 'portuguese water dog': 1, 'pug': 1, 'saint bernard': 1, 'saluki': 1, 'samoyed': 1, 'schnauzer': 1, 'scottish terrier': 1, 'sealyham terrier': 1, 'shetland sheepdog': 1, 'silky terrier': 1, 'smooth fox terrier': 1, 'staffordshire bull terrier': 1, 'tibetan terrier': 1, 'vizsla': 1, 'walker hound': 1, 'wirehaired pointing griffon': 1, 'xoloitzcuintli': 1, 'dog': 1}\n"
     ]
    }
   ],
   "source": [
    "print(dogs_dic)\n"
   ]
  },
  {
   "cell_type": "code",
   "execution_count": 18,
   "metadata": {},
   "outputs": [],
   "source": [
    "for fname in results_dic:\n",
    "    if results_dic[fname][0] in dogs_dic:\n",
    "            \n",
    "        if results_dic[fname][1] in dogs_dic:\n",
    "            results_dic[fname].extend((1, 1))\n",
    "        else:\n",
    "            results_dic[fname].extend((1, 0))\n",
    "    else:\n",
    "        if results_dic[fname][1] in dogs_dic:\n",
    "            results_dic[fname].extend((0, 1))\n",
    "        else:\n",
    "            results_dic[fname].extend((1, 0))"
   ]
  },
  {
   "cell_type": "code",
   "execution_count": 23,
   "metadata": {},
   "outputs": [
    {
     "data": {
      "text/plain": [
       "True"
      ]
     },
     "execution_count": 23,
     "metadata": {},
     "output_type": "execute_result"
    }
   ],
   "source": [
    "any(key.startswith('beagle') for key in dogs_dic)"
   ]
  },
  {
   "cell_type": "code",
   "execution_count": null,
   "metadata": {},
   "outputs": [],
   "source": []
  }
 ],
 "metadata": {
  "kernelspec": {
   "display_name": "Python 3",
   "language": "python",
   "name": "python3"
  },
  "language_info": {
   "codemirror_mode": {
    "name": "ipython",
    "version": 3
   },
   "file_extension": ".py",
   "mimetype": "text/x-python",
   "name": "python",
   "nbconvert_exporter": "python",
   "pygments_lexer": "ipython3",
   "version": "3.7.1"
  }
 },
 "nbformat": 4,
 "nbformat_minor": 2
}
